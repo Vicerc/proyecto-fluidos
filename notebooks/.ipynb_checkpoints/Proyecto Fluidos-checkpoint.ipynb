{
 "cells": [
  {
   "cell_type": "code",
   "execution_count": 1,
   "metadata": {},
   "outputs": [],
   "source": [
    "import numpy as np\n",
    "from ipywidgets import IntSlider, FloatSlider, HBox, VBox\n",
    "import bqplot.pyplot as plt\n",
    "import pandas as pd\n",
    "import math"
   ]
  },
  {
   "cell_type": "code",
   "execution_count": 2,
   "metadata": {},
   "outputs": [],
   "source": [
    "df = pd.read_csv('Tabla16.csv', decimal=\",\")"
   ]
  },
  {
   "cell_type": "code",
   "execution_count": 3,
   "metadata": {},
   "outputs": [],
   "source": [
    "def densidad(h):\n",
    "    mayores = df.loc[df['Altitud m'] >= h]\n",
    "    menores = df.loc[df['Altitud m'] <= h]\n",
    "    mayor = mayores.head(1).iloc[0]\n",
    "    menor = menores.tail(1).iloc[0]\n",
    "    if mayor['Altitud m'] == menor['Altitud m']:\n",
    "        return menor['Densidad kg/m^3']\n",
    "    \n",
    "    return menor['Densidad kg/m^3'] + (mayor['Densidad kg/m^3'] - menor['Densidad kg/m^3'])/(mayor['Altitud m'] - menor['Altitud m']) * (h - menor['Altitud m'])\n",
    "\n",
    "def masa_total(masa_h, masa_p, pasajeros):\n",
    "    return masa_h + masa_p * pasajeros\n",
    "\n",
    "def potencia(masa, altura, diametro):\n",
    "    d = densidad(altura)\n",
    "    return math.sqrt(((masa * 9.81) ** 3)/(0.7 * d * math.pi * diametro**2))"
   ]
  },
  {
   "cell_type": "code",
   "execution_count": 4,
   "metadata": {},
   "outputs": [],
   "source": [
    "x = np.linspace(0.0, 3000.0, 10)\n",
    "potencia_vectorizada = np.vectorize(potencia)\n",
    "y = potencia_vectorizada(masa_total(800, 20, 0), x, 5)\n",
    "\n",
    "title_tmpl = 'Potencia necesaria para elevar un helicóptero a una altura h'\n",
    "potencia_fig = plt.figure(title=title_tmpl.format(0, 1))\n",
    "potencia_line = plt.plot(x, y, 'm', stroke_width=3)"
   ]
  },
  {
   "cell_type": "code",
   "execution_count": 5,
   "metadata": {},
   "outputs": [],
   "source": [
    "masa_h = FloatSlider(description='Masa del helicóptero', min=800, max=5000, step=.1)\n",
    "diametro = IntSlider(description='Diámetro de las aspas', min=5, max=20)\n",
    "pasajeros = IntSlider(description='Número de pasajeres', min=0, max=12)\n",
    "masa_p = FloatSlider(description='Masa promedio de pasajeres', min=20, max=150, step=.1)\n",
    "\n",
    "slider_layout = HBox([masa_h, diametro, pasajeros, masa_p])"
   ]
  },
  {
   "cell_type": "code",
   "execution_count": 6,
   "metadata": {},
   "outputs": [],
   "source": [
    "def update_potencia(change):\n",
    "    new_masa_h = masa_h.value\n",
    "    new_diametro = diametro.value\n",
    "    new_pasajeros = pasajeros.value\n",
    "    new_masa_p = masa_p.value\n",
    "    potencia_line.y = potencia_vectorizada(masa_total(new_masa_h, new_masa_p, new_pasajeros), x, new_diametro)\n",
    "\n",
    "\n",
    "masa_h.observe(update_potencia, 'value')\n",
    "diametro.observe(update_potencia, 'value')\n",
    "pasajeros.observe(update_potencia, 'value')\n",
    "masa_p.observe(update_potencia, 'value')"
   ]
  },
  {
   "cell_type": "code",
   "execution_count": 7,
   "metadata": {},
   "outputs": [
    {
     "data": {
      "application/vnd.jupyter.widget-view+json": {
       "model_id": "cc005b1085d7493aacedb76bd5aff4c2",
       "version_major": 2,
       "version_minor": 0
      },
      "text/plain": [
       "VBox(children=(Figure(axes=[Axis(scale=LinearScale()), Axis(orientation='vertical', scale=LinearScale())], fig…"
      ]
     },
     "metadata": {},
     "output_type": "display_data"
    }
   ],
   "source": [
    "final_layout = VBox([potencia_fig, slider_layout])\n",
    "final_layout"
   ]
  }
 ],
 "metadata": {
  "kernelspec": {
   "display_name": "Python 3",
   "language": "python",
   "name": "python3"
  },
  "language_info": {
   "codemirror_mode": {
    "name": "ipython",
    "version": 3
   },
   "file_extension": ".py",
   "mimetype": "text/x-python",
   "name": "python",
   "nbconvert_exporter": "python",
   "pygments_lexer": "ipython3",
   "version": "3.8.5"
  }
 },
 "nbformat": 4,
 "nbformat_minor": 2
}
