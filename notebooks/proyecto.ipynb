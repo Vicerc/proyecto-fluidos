{
 "cells": [
  {
   "cell_type": "markdown",
   "metadata": {},
   "source": [
    "# Potencia necesaria para elevar un helicóptero"
   ]
  },
  {
   "cell_type": "code",
   "execution_count": 1,
   "metadata": {},
   "outputs": [],
   "source": [
    "import numpy as np\n",
    "from ipywidgets import IntSlider, FloatSlider, HBox, VBox, Layout\n",
    "import bqplot.pyplot as plt\n",
    "import pandas as pd\n",
    "import math\n",
    "import bqplot as bq"
   ]
  },
  {
   "cell_type": "code",
   "execution_count": 2,
   "metadata": {},
   "outputs": [],
   "source": [
    "df = pd.read_csv('Tabla16.csv', decimal=\",\")"
   ]
  },
  {
   "cell_type": "code",
   "execution_count": 3,
   "metadata": {},
   "outputs": [],
   "source": [
    "def densidad(h):\n",
    "    mayores = df.loc[df['Altitud m'] >= h]\n",
    "    menores = df.loc[df['Altitud m'] <= h]\n",
    "    mayor = mayores.head(1).iloc[0]\n",
    "    menor = menores.tail(1).iloc[0]\n",
    "    if mayor['Altitud m'] == menor['Altitud m']:\n",
    "        return menor['Densidad kg/m^3']\n",
    "    \n",
    "    return menor['Densidad kg/m^3'] + (mayor['Densidad kg/m^3'] - menor['Densidad kg/m^3'])/(mayor['Altitud m'] - menor['Altitud m']) * (h - menor['Altitud m'])\n",
    "\n",
    "def masa_total(masa_h, masa_p, pasajeros):\n",
    "    return masa_h + masa_p * pasajeros\n",
    "\n",
    "def potencia(masa, altura, diametro):\n",
    "    d = densidad(altura)\n",
    "    return math.sqrt(((masa * 9.81) ** 3)/(0.7 * d * math.pi * diametro**2))"
   ]
  },
  {
   "cell_type": "code",
   "execution_count": 4,
   "metadata": {},
   "outputs": [],
   "source": [
    "x = np.linspace(0.0, 20, 10)\n",
    "potencia_vectorizada = np.vectorize(potencia)\n",
    "y = potencia_vectorizada(masa_total(800, 20, 0), x, 5)\n",
    "\n",
    "potencia_fig = plt.figure(title='Potencia en función de la altura')\n",
    "axes_options = {'x': {'label': 'Altura [mts]'}, 'y': {'label': 'Potencia [W]'}}\n",
    "potencia_line = plt.plot(x, y, 'm', stroke_width=3, axes_options=axes_options)"
   ]
  },
  {
   "cell_type": "code",
   "execution_count": 5,
   "metadata": {},
   "outputs": [],
   "source": [
    "layout = Layout(width='30vw', height='4vh') \n",
    "\n",
    "masa_h = FloatSlider(description='Masa helicóptero', min=800, max=5000, step=.1, style={'description_width': 'initial'}, layout=layout)\n",
    "diametro = IntSlider(description='Diámetro aspas', min=5, max=20, style={'description_width': 'initial'}, layout=layout)\n",
    "pasajeros = IntSlider(description='Número pasajeres', min=1, max=12, style={'description_width': 'initial'}, layout=layout)\n",
    "masa_p = FloatSlider(description='Masa promedio pasajeres', min=20, max=150, step=.1, style={'description_width': 'initial'}, layout=layout)\n",
    "altura = FloatSlider(description='Altura máxima', min=1, max=3000, step=.1, style={'description_width': 'initial'}, layout=layout)\n",
    "\n",
    "slider_layout1 = HBox([masa_h, diametro])\n",
    "slider_layout2 = HBox([pasajeros, masa_p])\n",
    "slider_layout3 = HBox([altura])"
   ]
  },
  {
   "cell_type": "code",
   "execution_count": 6,
   "metadata": {},
   "outputs": [],
   "source": [
    "def update_potencia(change):\n",
    "    new_masa_h = masa_h.value\n",
    "    new_diametro = diametro.value\n",
    "    new_pasajeros = pasajeros.value\n",
    "    new_masa_p = masa_p.value\n",
    "    new_altura = altura.value\n",
    "    new_x = np.linspace(800, masa_total(new_masa_h, new_masa_p, new_pasajeros), 10)\n",
    "    new_x_altura = np.linspace(0.0, new_altura, 10)\n",
    "    potencia_line.y = potencia_vectorizada(masa_total(new_masa_h, new_masa_p, new_pasajeros), new_x_altura, \n",
    "                                           new_diametro)\n",
    "    potencia_line.x = new_x_altura\n",
    "    potencia_line_2.x = new_x\n",
    "    potencia_line_2.y = potencia_vectorizada(new_x, new_altura, new_diametro)\n",
    "    \n",
    "    new_x_diametro = np.linspace(1, new_diametro, 30)\n",
    "    potencia_line_3.x = new_x_diametro\n",
    "    potencia_line_3.y = potencia_vectorizada(masa_total(new_masa_h, new_masa_p, new_pasajeros), \n",
    "                                             new_altura, new_x_diametro)\n",
    "    \n",
    "masa_h.observe(update_potencia, 'value')\n",
    "diametro.observe(update_potencia, 'value')\n",
    "pasajeros.observe(update_potencia, 'value')\n",
    "masa_p.observe(update_potencia, 'value')\n",
    "altura.observe(update_potencia, 'value')"
   ]
  },
  {
   "cell_type": "code",
   "execution_count": 7,
   "metadata": {},
   "outputs": [],
   "source": [
    "n = 30\n",
    "x_peso = np.linspace(800, 2000, 10)\n",
    "y_peso = potencia_vectorizada(x_peso, n, 5)\n",
    "\n",
    "layout_2 = Layout(width='33vw', height='60vh')\n",
    "potencia_fig_2 = plt.figure(title='Potencia en función del peso total', layout=layout_2)\n",
    "axes_options_2 = {'x': {'label': 'Peso [kg]'}, 'y': {'label': 'Potencia [W]'}}\n",
    "potencia_line_2 = plt.plot(x_peso, y_peso, 'c', stroke_width=3, axes_options=axes_options_2)"
   ]
  },
  {
   "cell_type": "code",
   "execution_count": 8,
   "metadata": {},
   "outputs": [],
   "source": [
    "layout_3 = Layout(width='33vw', height='60vh')\n",
    "x_diametro = np.linspace(1, 10, 30)\n",
    "y_diametro = potencia_vectorizada(masa_total(800, 20, 0), n, x_diametro)\n",
    "\n",
    "potencia_fig_3 = plt.figure(title='Potencia en función del diámetro de las aspas', layout=layout_3)\n",
    "axes_options_3 = {'x': {'label': 'Diámetro [m]'}, 'y': {'label': 'Potencia [W]'}}\n",
    "potencia_line_3 = plt.plot(x_diametro, y_diametro, 'c', stroke_width=3, axes_options=axes_options_3)"
   ]
  },
  {
   "cell_type": "code",
   "execution_count": 9,
   "metadata": {},
   "outputs": [],
   "source": [
    "slider_layout4 = HBox([potencia_fig_2, potencia_fig_3])"
   ]
  },
  {
   "cell_type": "code",
   "execution_count": 10,
   "metadata": {},
   "outputs": [
    {
     "data": {
      "application/vnd.jupyter.widget-view+json": {
       "model_id": "d69c7d089e814c2f8cdcfb108dfd205a",
       "version_major": 2,
       "version_minor": 0
      },
      "text/plain": [
       "VBox(children=(Figure(axes=[Axis(label='Altura [mts]', scale=LinearScale()), Axis(label='Potencia [W]', orient…"
      ]
     },
     "metadata": {},
     "output_type": "display_data"
    }
   ],
   "source": [
    "final_layout = VBox([potencia_fig, slider_layout1, slider_layout2, slider_layout3, slider_layout4])\n",
    "final_layout"
   ]
  }
 ],
 "metadata": {
  "kernelspec": {
   "display_name": "Python 3",
   "language": "python",
   "name": "python3"
  },
  "language_info": {
   "codemirror_mode": {
    "name": "ipython",
    "version": 3
   },
   "file_extension": ".py",
   "mimetype": "text/x-python",
   "name": "python",
   "nbconvert_exporter": "python",
   "pygments_lexer": "ipython3",
   "version": "3.8.5"
  }
 },
 "nbformat": 4,
 "nbformat_minor": 2
}
