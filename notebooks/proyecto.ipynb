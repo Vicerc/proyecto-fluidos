{
 "cells": [
  {
   "cell_type": "markdown",
   "metadata": {},
   "source": [
    "# Potencia necesaria para elevar un helicóptero a una altura h"
   ]
  },
  {
   "cell_type": "code",
   "execution_count": 1,
   "metadata": {},
   "outputs": [],
   "source": [
    "import numpy as np\n",
    "from ipywidgets import IntSlider, FloatSlider, HBox, VBox, Layout\n",
    "import bqplot.pyplot as plt\n",
    "import pandas as pd\n",
    "import math"
   ]
  },
  {
   "cell_type": "code",
   "execution_count": 2,
   "metadata": {},
   "outputs": [],
   "source": [
    "df = pd.read_csv('Tabla16.csv', decimal=\",\")"
   ]
  },
  {
   "cell_type": "code",
   "execution_count": 3,
   "metadata": {},
   "outputs": [],
   "source": [
    "def densidad(h):\n",
    "    mayores = df.loc[df['Altitud m'] >= h]\n",
    "    menores = df.loc[df['Altitud m'] <= h]\n",
    "    mayor = mayores.head(1).iloc[0]\n",
    "    menor = menores.tail(1).iloc[0]\n",
    "    if mayor['Altitud m'] == menor['Altitud m']:\n",
    "        return menor['Densidad kg/m^3']\n",
    "    \n",
    "    return menor['Densidad kg/m^3'] + (mayor['Densidad kg/m^3'] - menor['Densidad kg/m^3'])/(mayor['Altitud m'] - menor['Altitud m']) * (h - menor['Altitud m'])\n",
    "\n",
    "def masa_total(masa_h, masa_p, pasajeros):\n",
    "    return masa_h + masa_p * pasajeros\n",
    "\n",
    "def potencia(masa, altura, diametro):\n",
    "    d = densidad(altura)\n",
    "    return math.sqrt(((masa * 9.81) ** 3)/(0.7 * d * math.pi * diametro**2))"
   ]
  },
  {
   "cell_type": "code",
   "execution_count": 4,
   "metadata": {},
   "outputs": [],
   "source": [
    "x = np.linspace(0.0, 3000.0, 10)\n",
    "potencia_vectorizada = np.vectorize(potencia)\n",
    "y = potencia_vectorizada(masa_total(800, 20, 0), x, 5)\n",
    "\n",
    "potencia_fig = plt.figure()\n",
    "axes_options = {'x': {'label': 'Altura'}, 'y': {'label': 'Potencia'}}\n",
    "potencia_line = plt.plot(x, y, stroke_width=3, axes_options=axes_options)"
   ]
  },
  {
   "cell_type": "code",
   "execution_count": 5,
   "metadata": {},
   "outputs": [],
   "source": [
    "layout = Layout(width='30vw', height='4vh') \n",
    "\n",
    "masa_h = FloatSlider(description='Masa helicóptero', min=800, max=5000, step=.1, style={'description_width': 'initial'}, layout=layout)\n",
    "diametro = IntSlider(description='Diámetro aspas', min=5, max=20, style={'description_width': 'initial'}, layout=layout)\n",
    "pasajeros = IntSlider(description='Número pasajeres', min=0, max=12, style={'description_width': 'initial'}, layout=layout)\n",
    "masa_p = FloatSlider(description='Masa promedio pasajeres', min=20, max=150, step=.1, style={'description_width': 'initial'}, layout=layout)\n",
    "\n",
    "slider_layout1 = HBox([masa_h, diametro])\n",
    "slider_layout2 = HBox([pasajeros, masa_p])"
   ]
  },
  {
   "cell_type": "code",
   "execution_count": 6,
   "metadata": {},
   "outputs": [],
   "source": [
    "def update_potencia(change):\n",
    "    new_masa_h = masa_h.value\n",
    "    new_diametro = diametro.value\n",
    "    new_pasajeros = pasajeros.value\n",
    "    new_masa_p = masa_p.value\n",
    "    potencia_line.y = potencia_vectorizada(masa_total(new_masa_h, new_masa_p, new_pasajeros), x, new_diametro)\n",
    "\n",
    "\n",
    "masa_h.observe(update_potencia, 'value')\n",
    "diametro.observe(update_potencia, 'value')\n",
    "pasajeros.observe(update_potencia, 'value')\n",
    "masa_p.observe(update_potencia, 'value')"
   ]
  },
  {
   "cell_type": "code",
   "execution_count": 7,
   "metadata": {},
   "outputs": [
    {
     "data": {
      "application/vnd.jupyter.widget-view+json": {
       "model_id": "45cfa54c6c0f400e898c9a051dad41da",
       "version_major": 2,
       "version_minor": 0
      },
      "text/plain": [
       "VBox(children=(Figure(axes=[Axis(label='Altura', scale=LinearScale()), Axis(label='Potencia', orientation='ver…"
      ]
     },
     "metadata": {},
     "output_type": "display_data"
    }
   ],
   "source": [
    "final_layout = VBox([potencia_fig, slider_layout1, slider_layout2])\n",
    "final_layout"
   ]
  }
 ],
 "metadata": {
  "kernelspec": {
   "display_name": "Python 3",
   "language": "python",
   "name": "python3"
  },
  "language_info": {
   "codemirror_mode": {
    "name": "ipython",
    "version": 3
   },
   "file_extension": ".py",
   "mimetype": "text/x-python",
   "name": "python",
   "nbconvert_exporter": "python",
   "pygments_lexer": "ipython3",
   "version": "3.8.5"
  }
 },
 "nbformat": 4,
 "nbformat_minor": 2
}
